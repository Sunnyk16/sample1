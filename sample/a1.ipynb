{
 "cells": [
  {
   "cell_type": "code",
   "execution_count": 2,
   "id": "44634780-9a09-4ff6-b840-cd2be2424ddc",
   "metadata": {},
   "outputs": [
    {
     "name": "stdout",
     "output_type": "stream",
     "text": [
      "DFS:\n",
      "5 3 2 4 8 7 "
     ]
    }
   ],
   "source": [
    "graph = {\n",
    "    '5': ['3', '7'],\n",
    "    '3': ['2', '4'],\n",
    "    '7': ['8'],\n",
    "    '2': [],\n",
    "    '4': ['8'],\n",
    "    '8': [],\n",
    "}\n",
    "\n",
    "visited = set()\n",
    "\n",
    "def dfs(graph, node):\n",
    "    if node not in visited:\n",
    "        print(node, end=\" \")\n",
    "        visited.add(node)\n",
    "        for neighbour in graph[node]:\n",
    "            dfs(graph, neighbour)\n",
    "\n",
    "print(\"DFS:\")\n",
    "dfs(graph, '5')\n"
   ]
  },
  {
   "cell_type": "code",
   "execution_count": 3,
   "id": "fdb25a64-fca5-4c2b-9222-e2b8b79cca85",
   "metadata": {},
   "outputs": [
    {
     "name": "stdout",
     "output_type": "stream",
     "text": [
      "\n",
      "BFS:\n",
      "5 3 7 2 4 8 "
     ]
    }
   ],
   "source": [
    "graph = {\n",
    "    '5': ['3', '7'],\n",
    "    '3': ['2', '4'],\n",
    "    '7': ['8'],\n",
    "    '2': [],\n",
    "    '4': ['8'],\n",
    "    '8': [],\n",
    "    \n",
    "}\n",
    "\n",
    "visited = set()\n",
    "queue = []\n",
    "\n",
    "def bfs(graph, node):\n",
    "    visited.add(node)\n",
    "    queue.append(node)\n",
    "    while queue:\n",
    "        current_node = queue.pop(0)\n",
    "        print(current_node, end=\" \")\n",
    "        for neighbour in graph[current_node]:\n",
    "            if neighbour not in visited:\n",
    "                visited.add(neighbour)\n",
    "                queue.append(neighbour)\n",
    "\n",
    "print(\"\\nBFS:\")\n",
    "bfs(graph, '5')\n"
   ]
  },
  {
   "cell_type": "code",
   "execution_count": null,
   "id": "f82ba9a1-256d-461e-b82d-d8bd88ca8d40",
   "metadata": {},
   "outputs": [],
   "source": []
  }
 ],
 "metadata": {
  "kernelspec": {
   "display_name": "sunny",
   "language": "python",
   "name": "sunny"
  },
  "language_info": {
   "codemirror_mode": {
    "name": "ipython",
    "version": 3
   },
   "file_extension": ".py",
   "mimetype": "text/x-python",
   "name": "python",
   "nbconvert_exporter": "python",
   "pygments_lexer": "ipython3",
   "version": "3.11.3"
  }
 },
 "nbformat": 4,
 "nbformat_minor": 5
}
