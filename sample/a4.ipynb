{
 "cells": [
  {
   "cell_type": "code",
   "execution_count": 1,
   "id": "1dead72a-0fb7-47db-9291-6b34a8991144",
   "metadata": {},
   "outputs": [
    {
     "name": "stdin",
     "output_type": "stream",
     "text": [
      "Enter no.of queens:  4\n"
     ]
    },
    {
     "name": "stdout",
     "output_type": "stream",
     "text": [
      "\n",
      "Solution for 4 Queen problem is\n",
      "0 0 1 0 \n",
      "1 0 0 0 \n",
      "0 0 0 1 \n",
      "0 1 0 0 \n"
     ]
    },
    {
     "data": {
      "text/plain": [
       "True"
      ]
     },
     "execution_count": 1,
     "metadata": {},
     "output_type": "execute_result"
    }
   ],
   "source": [
    "N = int(input(\"Enter no.of queens: \"))\n",
    "\n",
    "def printsol(board):\n",
    "    for row in board:\n",
    "        for cell in row:\n",
    "            print(cell, end=\" \")\n",
    "        print()\n",
    "\n",
    "def is_safe(board, row, col):\n",
    "    for i in range(col):\n",
    "        if board[row][i] == 1:\n",
    "            return False\n",
    "    \n",
    "    for i, j in zip(range(row, -1, -1), range(col, -1, -1)):\n",
    "        if board[i][j] == 1:\n",
    "            return False\n",
    "    \n",
    "    for i, j in zip(range(row, N, 1), range(col, -1, -1)):\n",
    "        if board[i][j] == 1:\n",
    "            return False\n",
    "    \n",
    "    return True\n",
    "\n",
    "def solveNQUtil(board, row):\n",
    "    if row >= N:\n",
    "        return True\n",
    "    \n",
    "    for i in range(N):\n",
    "        if is_safe(board, i, row):\n",
    "            board[i][row] = 1\n",
    "            if solveNQUtil(board, row + 1):\n",
    "                return True\n",
    "            board[i][row] = 0\n",
    "    \n",
    "    return False\n",
    "\n",
    "def solveprob():\n",
    "    board = [[0 for _ in range(N)] for _ in range(N)]\n",
    "    if not solveNQUtil(board, 0):\n",
    "        print(\"Solution does not exist\")\n",
    "        return False\n",
    "    \n",
    "    printsol(board)\n",
    "    return True\n",
    "\n",
    "print()\n",
    "print(f\"Solution for {N} Queen problem is\")\n",
    "solveprob()\n"
   ]
  },
  {
   "cell_type": "code",
   "execution_count": null,
   "id": "ca845a73-eddb-4423-9ea4-79c888597717",
   "metadata": {},
   "outputs": [],
   "source": []
  }
 ],
 "metadata": {
  "kernelspec": {
   "display_name": "sunny",
   "language": "python",
   "name": "sunny"
  },
  "language_info": {
   "codemirror_mode": {
    "name": "ipython",
    "version": 3
   },
   "file_extension": ".py",
   "mimetype": "text/x-python",
   "name": "python",
   "nbconvert_exporter": "python",
   "pygments_lexer": "ipython3",
   "version": "3.11.3"
  }
 },
 "nbformat": 4,
 "nbformat_minor": 5
}
