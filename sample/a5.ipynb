{
 "cells": [
  {
   "cell_type": "code",
   "execution_count": null,
   "id": "3ea599bf-490e-47b6-b2e7-deb117e71c70",
   "metadata": {},
   "outputs": [
    {
     "name": "stdout",
     "output_type": "stream",
     "text": [
      "Hello, my name is Sbot.\n",
      "I was created in 2024.\n"
     ]
    },
    {
     "name": "stdin",
     "output_type": "stream",
     "text": [
      "Please remind me your name:  sunny\n"
     ]
    },
    {
     "name": "stdout",
     "output_type": "stream",
     "text": [
      "What a great name you have, sunny!\n",
      "Let me guess your age.\n",
      "Enter remainders of dividing your age by 3, 5, and 7.\n"
     ]
    }
   ],
   "source": [
    "def greet(bot_name, birth_year):\n",
    "    print(f\"Hello, my name is {bot_name}.\")\n",
    "    print(f\"I was created in {birth_year}.\")\n",
    "\n",
    "def remind_name():\n",
    "    name = input(\"Please remind me your name: \")\n",
    "    print(f\"What a great name you have, {name}!\")\n",
    "\n",
    "def guess_age():\n",
    "    print(\"Let me guess your age.\")\n",
    "    print(\"Enter remainders of dividing your age by 3, 5, and 7.\")\n",
    "    rem3 = int(input())\n",
    "    rem5 = int(input())\n",
    "    rem7 = int(input())\n",
    "    age = (rem3 * 70 + rem5 * 21 + rem7 * 15) % 105\n",
    "    print(f\"Your age is {age}; That's a good time to start programming!\")\n",
    "\n",
    "def count():\n",
    "    print(\"Now I will prove to you that I can count to any number you want.\")\n",
    "    num = int(input())\n",
    "    for i in range(num + 1):\n",
    "        print(f\"{i}!\")\n",
    "\n",
    "def test():\n",
    "    print(\"Let's go and test your programming knowledge.\")\n",
    "    print(\"Why do we use methods?\")\n",
    "    print(\"1. To repeat the statement multiple times.\")\n",
    "    print(\"2. To decompose a program into several small subroutines.\")\n",
    "    print(\"3. To determine the execution time of a program.\")\n",
    "    print(\"4. To interrupt the execution of a program.\")\n",
    "    answer = 2\n",
    "    while True:\n",
    "        guess = int(input())\n",
    "        if guess == answer:\n",
    "            break\n",
    "        else:\n",
    "            print(\"Please, try again.\")\n",
    "\n",
    "def end():\n",
    "    print(\"Congratulations, have a nice day!\")\n",
    "\n",
    "def main():\n",
    "    bot_name = \"Sbot\"\n",
    "    birth_year = 2024\n",
    "\n",
    "    greet(bot_name, birth_year)\n",
    "    remind_name()\n",
    "    guess_age()\n",
    "    count()\n",
    "    test()\n",
    "    end()\n",
    "\n",
    "if __name__ == \"__main__\":\n",
    "    main()\n"
   ]
  },
  {
   "cell_type": "code",
   "execution_count": null,
   "id": "12cf9d01-6390-40ad-8314-d6c3e5ad661e",
   "metadata": {},
   "outputs": [],
   "source": []
  }
 ],
 "metadata": {
  "kernelspec": {
   "display_name": "sunny",
   "language": "python",
   "name": "sunny"
  },
  "language_info": {
   "codemirror_mode": {
    "name": "ipython",
    "version": 3
   },
   "file_extension": ".py",
   "mimetype": "text/x-python",
   "name": "python",
   "nbconvert_exporter": "python",
   "pygments_lexer": "ipython3",
   "version": "3.11.3"
  }
 },
 "nbformat": 4,
 "nbformat_minor": 5
}
