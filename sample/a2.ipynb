{
 "cells": [
  {
   "cell_type": "code",
   "execution_count": 2,
   "id": "25afb375-c82f-4b89-8c09-bbfe53c9211c",
   "metadata": {},
   "outputs": [
    {
     "name": "stdout",
     "output_type": "stream",
     "text": [
      "Enter Initial Block Structure\n",
      "Enter 0 for blank space:\n"
     ]
    },
    {
     "name": "stdin",
     "output_type": "stream",
     "text": [
      "Row 1 Column 1 Element =  1\n",
      "Row 1 Column 2 Element =  2\n",
      "Row 1 Column 3 Element =  3\n",
      "Row 2 Column 1 Element =  4\n",
      "Row 2 Column 2 Element =  5\n",
      "Row 2 Column 3 Element =  6\n",
      "Row 3 Column 1 Element =  7\n",
      "Row 3 Column 2 Element =  0\n",
      "Row 3 Column 3 Element =  8\n"
     ]
    },
    {
     "name": "stdout",
     "output_type": "stream",
     "text": [
      "\n",
      "\n",
      "Enter Final Block Structure\n",
      "Enter 0 for blank space:\n"
     ]
    },
    {
     "name": "stdin",
     "output_type": "stream",
     "text": [
      "Row 1 Column 1 Element =  1\n",
      "Row 1 Column 2 Element =  2\n",
      "Row 1 Column 3 Element =  3\n",
      "Row 2 Column 1 Element =  4\n",
      "Row 2 Column 2 Element =  5\n",
      "Row 2 Column 3 Element =  6\n",
      "Row 3 Column 1 Element =  7\n",
      "Row 3 Column 2 Element =  8\n",
      "Row 3 Column 3 Element =  0\n"
     ]
    },
    {
     "name": "stdout",
     "output_type": "stream",
     "text": [
      "\n",
      "\n",
      "This is the solution using A* Algorithm:\n",
      "\n",
      "1 2 3 \n",
      "4 5 6 \n",
      "7 0 8 \n",
      "hscore: 1\n",
      "gscore: 0\n",
      "fscore: 1\n",
      "\n",
      "\n",
      "1 2 3 \n",
      "4 5 6 \n",
      "7 8 0 \n",
      "hscore: 0\n",
      "gscore: 1\n",
      "fscore: 1\n",
      "\n",
      "\n"
     ]
    }
   ],
   "source": [
    "import heapq\n",
    "import copy\n",
    "\n",
    "N = 3\n",
    "\n",
    "class Node:\n",
    "    def __init__(self, mat, x, y, newX, newY, level, parent):\n",
    "        self.parent = parent\n",
    "        self.mat = copy.deepcopy(mat)\n",
    "        self.mat[x][y], self.mat[newX][newY] = self.mat[newX][newY], self.mat[x][y]\n",
    "        self.cost = float('inf')\n",
    "        self.level = level\n",
    "        self.x = newX\n",
    "        self.y = newY\n",
    "\n",
    "    def __lt__(self, other):\n",
    "        return (self.cost + self.level) < (other.cost + other.level)\n",
    "\n",
    "def printMatrix(mat):\n",
    "    for i in range(N):\n",
    "        for j in range(N):\n",
    "            print(mat[i][j], end=' ')\n",
    "        print()\n",
    "\n",
    "def calculateCost(initial, final):\n",
    "    count = 0\n",
    "    for i in range(N):\n",
    "        for j in range(N):\n",
    "            if initial[i][j] and initial[i][j] != final[i][j]:\n",
    "                count += 1\n",
    "    return count\n",
    "\n",
    "def isSafe(x, y):\n",
    "    return 0 <= x < N and 0 <= y < N\n",
    "\n",
    "def printPath(root):\n",
    "    if root is None:\n",
    "        return\n",
    "    printPath(root.parent)\n",
    "    printMatrix(root.mat)\n",
    "    print(f'hscore: {root.cost}\\ngscore: {root.level}\\nfscore: {root.cost + root.level}\\n')\n",
    "    print()\n",
    "\n",
    "def solve(initial, x, y, final):\n",
    "    pq = []\n",
    "    root = Node(initial, x, y, x, y, 0, None)\n",
    "    root.cost = calculateCost(initial, final)\n",
    "    heapq.heappush(pq, root)\n",
    "    \n",
    "    while pq:\n",
    "        min_node = heapq.heappop(pq)\n",
    "        if min_node.cost == 0:\n",
    "            printPath(min_node)\n",
    "            return\n",
    "        for i in range(4):\n",
    "            if isSafe(min_node.x + row[i], min_node.y + col[i]):\n",
    "                child = Node(min_node.mat, min_node.x, min_node.y, min_node.x + row[i], min_node.y + col[i], min_node.level + 1, min_node)\n",
    "                child.cost = calculateCost(child.mat, final)\n",
    "                heapq.heappush(pq, child)\n",
    "\n",
    "row = [1, 0, -1, 0]\n",
    "col = [0, -1, 0, 1]\n",
    "\n",
    "if __name__ == \"__main__\":\n",
    "    initial = [[0] * N for _ in range(N)]\n",
    "    x, y = None, None\n",
    "\n",
    "    print(\"Enter Initial Block Structure\\nEnter 0 for blank space:\")\n",
    "    for i in range(N):\n",
    "        for j in range(N):\n",
    "            initial[i][j] = int(input(f\"Row {i + 1} Column {j + 1} Element = \"))\n",
    "            if initial[i][j] == 0:\n",
    "                x, y = i, j\n",
    "\n",
    "    final = [[0] * N for _ in range(N)]\n",
    "\n",
    "    print(\"\\n\\nEnter Final Block Structure\\nEnter 0 for blank space:\")\n",
    "    for i in range(N):\n",
    "        for j in range(N):\n",
    "            final[i][j] = int(input(f\"Row {i + 1} Column {j + 1} Element = \"))\n",
    "\n",
    "    print(\"\\n\\nThis is the solution using A* Algorithm:\\n\")\n",
    "    solve(initial, x, y, final)\n"
   ]
  },
  {
   "cell_type": "code",
   "execution_count": null,
   "id": "476c7af6-6b79-4333-a55c-02b10b20142e",
   "metadata": {},
   "outputs": [],
   "source": []
  }
 ],
 "metadata": {
  "kernelspec": {
   "display_name": "sunny",
   "language": "python",
   "name": "sunny"
  },
  "language_info": {
   "codemirror_mode": {
    "name": "ipython",
    "version": 3
   },
   "file_extension": ".py",
   "mimetype": "text/x-python",
   "name": "python",
   "nbconvert_exporter": "python",
   "pygments_lexer": "ipython3",
   "version": "3.11.3"
  }
 },
 "nbformat": 4,
 "nbformat_minor": 5
}
