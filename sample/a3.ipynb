{
 "cells": [
  {
   "cell_type": "code",
   "execution_count": 1,
   "id": "933a2118-910a-4708-9bd8-75b51cca514a",
   "metadata": {},
   "outputs": [
    {
     "name": "stdout",
     "output_type": "stream",
     "text": [
      "Before sorting: [6, 3, 5, 2, 1, 4]\n",
      "After sorting: [1, 2, 3, 4, 5, 6]\n"
     ]
    }
   ],
   "source": [
    "def selectionSort(arr, size):\n",
    "    for val in range(size):\n",
    "        minvalue = val\n",
    "        for i in range(val+1, size):\n",
    "            if (arr[i] < arr[minvalue]):\n",
    "                minvalue = i\n",
    "        (arr[val], arr[minvalue]) = (arr[minvalue], arr[val])\n",
    "\n",
    "arr = [6, 3, 5, 2, 1, 4]\n",
    "length = len(arr)\n",
    "print(\"Before sorting:\", arr)\n",
    "selectionSort(arr, length)\n",
    "print(\"After sorting:\", arr)\n"
   ]
  },
  {
   "cell_type": "code",
   "execution_count": null,
   "id": "22cb9de6-4201-4d5f-9247-ada98f56bfdf",
   "metadata": {},
   "outputs": [],
   "source": []
  }
 ],
 "metadata": {
  "kernelspec": {
   "display_name": "sunny",
   "language": "python",
   "name": "sunny"
  },
  "language_info": {
   "codemirror_mode": {
    "name": "ipython",
    "version": 3
   },
   "file_extension": ".py",
   "mimetype": "text/x-python",
   "name": "python",
   "nbconvert_exporter": "python",
   "pygments_lexer": "ipython3",
   "version": "3.11.3"
  }
 },
 "nbformat": 4,
 "nbformat_minor": 5
}
